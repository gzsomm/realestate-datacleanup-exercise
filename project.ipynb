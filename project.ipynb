{
 "cells": [
  {
   "attachments": {},
   "cell_type": "markdown",
   "id": "innocent-university",
   "metadata": {},
   "source": [
    "# Real Estate Clean up\n",
    "\n",
    "This is a real dataset, and it was downloaded using web scraping techniques. The data contains registers from **Fotocasa** which is one of the most popular real estate websites in Spain. Please, do not do this (web scraping) unless it is for academic purposes.\n",
    "\n",
    "The dataset was downloaded a few years ago by Henry Navarro, and in no case were economic returns obtained from it.\n",
    "\n",
    "It contains thousands of data from real houses published on the web www.fotocasa.com. Your goal is to extract as much information as possible with the knowledge you have so far about data science, for example what is the most expensive house in the entire dataset?\n",
    "\n",
    "Let's start with precisely that question... Good luck!"
   ]
  },
  {
   "attachments": {},
   "cell_type": "markdown",
   "id": "multiple-glass",
   "metadata": {},
   "source": [
    "#### Exercise 00. Read the dataset assets/real_estate.csv and try to visualize the table (★☆☆)"
   ]
  },
  {
   "cell_type": "code",
   "execution_count": 1,
   "id": "frank-heath",
   "metadata": {},
   "outputs": [
    {
     "data": {
      "text/plain": [
       "(15335, 37)"
      ]
     },
     "execution_count": 1,
     "metadata": {},
     "output_type": "execute_result"
    }
   ],
   "source": [
    "\n",
    "import pandas as pd\n",
    "\n",
    "# This CSV file contains semicolons instead of comas as separator\n",
    "ds = pd.read_csv('assets/real_estate.csv', sep=';')\n",
    "ds.shape\n",
    "\n",
    "\n"
   ]
  },
  {
   "attachments": {},
   "cell_type": "markdown",
   "id": "latin-guest",
   "metadata": {},
   "source": [
    "#### Exercise 01. Which is the most expensive house in the dataset? (★☆☆)\n",
    "\n",
    "Print the address and the price of the selected house. For example:\n",
    "\n",
    "`The house with address General Street Nº5 is the most expensive and its price is 5000000 USD`"
   ]
  },
  {
   "cell_type": "code",
   "execution_count": 62,
   "id": "developing-optimum",
   "metadata": {},
   "outputs": [
    {
     "name": "stdout",
     "output_type": "stream",
     "text": [
      "8500000\n",
      "1\n",
      "13110    El Escorial\n",
      "Name: address, dtype: object\n",
      "The house with address El Escorial is the most expensive and its price is 8500000\n"
     ]
    }
   ],
   "source": [
    "# \n",
    "# Identifica el precio más alto de la columna \"price\" de la base de datos \"ds\"\n",
    "pmax = max (ds['price'])\n",
    "print (pmax)\n",
    "\n",
    "# Crea una variable \"count\" que cuenta la cantidad de casos que 'price' es igual al máximo valor.\n",
    "count = (ds['price'] == pmax).sum()\n",
    "print(count)\n",
    "\n",
    "# Filtra la base para quedar con la observación para la que el 'precio' coincide con el máximo precio\n",
    "pmax_case = ds.loc[ds[\"price\"] == pmax]\n",
    "\n",
    "# De la observación anterior, selecciona solo la 'adress'\n",
    "pmax_direction = pmax_case[\"address\"]\n",
    "print (pmax_direction)\n",
    "\n",
    "print (f\"The house with address {pmax_direction.iloc[0]} is the most expensive and its price is {pmax}\")"
   ]
  },
  {
   "attachments": {},
   "cell_type": "markdown",
   "id": "lesser-cosmetic",
   "metadata": {},
   "source": [
    "#### Exercise 02. Which is the cheapest house in the dataset? (★☆☆)\n",
    "\n",
    "Print the address and the price of the selected house. For example:\n",
    "\n",
    "`The house with address Concrete Street Nº1 is the cheapest and its price is 12000 USD`"
   ]
  },
  {
   "cell_type": "code",
   "execution_count": 63,
   "id": "lovely-oasis",
   "metadata": {},
   "outputs": [
    {
     "name": "stdout",
     "output_type": "stream",
     "text": [
      "7491    Berlin, Coslada\n",
      "Name: address, dtype: object\n",
      "The house with address Berlin, Coslada is the cheapest and its price is 600\n"
     ]
    }
   ],
   "source": [
    "\n",
    "# Me quedo con los casos en que el precio es mayor que cero.\n",
    "count2 = (ds['price'] == 0).sum()\n",
    "#print (count2)\n",
    "\n",
    "ds_1 = ds[ds[\"price\"] > 0]\n",
    "\n",
    "pmin_ds = ds['price'].min()\n",
    "#print (pmin_ds)\n",
    "\n",
    "pmin = ds_1[\"price\"].min()\n",
    "#print (pmin)\n",
    "\n",
    "pmin_case = ds.loc [ds[\"price\"] == pmin]\n",
    "#print(pmin_case)\n",
    "\n",
    "pmin_direccion = pmin_case[\"address\"]\n",
    "print (pmin_direccion)\n",
    "\n",
    "print (f\"The house with address {pmin_direccion.iloc[0]} is the cheapest and its price is {pmin}\")\n"
   ]
  },
  {
   "attachments": {},
   "cell_type": "markdown",
   "id": "compliant-fellowship",
   "metadata": {},
   "source": [
    "#### Exercise 03. Which is the biggest and the smallest house in the dataset? (★☆☆)\n",
    "\n",
    "Print both the address and the surface of the selected houses. For example:\n",
    "\n",
    "`The biggest house is located on Yukka Street Nº10 and its surface is 5000 meters`\n",
    "\n",
    "`The smallest house is located on County Road 1 N and its surface is 200 meters`"
   ]
  },
  {
   "cell_type": "code",
   "execution_count": 64,
   "id": "every-tiffany",
   "metadata": {},
   "outputs": [
    {
     "name": "stdout",
     "output_type": "stream",
     "text": [
      "The biggest house is located on Sevilla la Nueva an its surface is 249000.0 meters\n",
      "The smallest house is located on Calle Amparo,  Madrid Capital an its surface is 15.0 meters\n"
     ]
    }
   ],
   "source": [
    "# TODO\n",
    "\n",
    "smax = ds[\"surface\"].max()\n",
    "smin = ds[\"surface\"].min()\n",
    "\n",
    "smax_case = ds.loc [ds[\"surface\"] == smax]\n",
    "smin_case = ds.loc [ds[\"surface\"] == smin]\n",
    "\n",
    "smax_direccion = smax_case[\"address\"]\n",
    "smin_direccion = smin_case[\"address\"]\n",
    "\n",
    "print (f\"The biggest house is located on {smax_direccion.iloc[0]} an its surface is {smax} meters\")\n",
    "print (f\"The smallest house is located on {smin_direccion.iloc[0]} an its surface is {smin} meters\")"
   ]
  },
  {
   "attachments": {},
   "cell_type": "markdown",
   "id": "danish-spirit",
   "metadata": {},
   "source": [
    "#### Exercise 04. How many populations (level5 column) the dataset contains? (★☆☆)\n",
    "\n",
    "Print the names of the populations with a comma as a separator. For example:\n",
    "\n",
    "`> print(populations)`\n",
    "\n",
    "`population1, population2, population3, ...`"
   ]
  },
  {
   "cell_type": "code",
   "execution_count": 65,
   "id": "exciting-accreditation",
   "metadata": {},
   "outputs": [
    {
     "name": "stdout",
     "output_type": "stream",
     "text": [
      "['Arganda del Rey' 'Fuenlabrada' 'Boadilla del Monte'\n",
      " 'Las Rozas de Madrid' ' Madrid Capital' 'Villaviciosa de Odón' 'Pinto'\n",
      " 'Valdemoro' 'Navalcarnero' 'Pozuelo de Alarcón' 'Torrejón de Ardoz'\n",
      " 'Navalagamella' 'San Sebastián de los Reyes' 'Rivas-vaciamadrid'\n",
      " 'Alpedrete' 'Móstoles' 'San Fernando de Henares' 'Coslada'\n",
      " 'Becerril de la Sierra' 'Alcalá de Henares' 'Chinchón' 'Parla' 'Alcorcón'\n",
      " 'El Escorial' 'Leganés' 'Pedrezuela' 'Majadahonda'\n",
      " 'Villanueva de la Cañada' 'Villanueva del Pardillo' 'Torrelodones'\n",
      " 'Moralzarzal' 'Mejorada del Campo' 'Aranjuez' 'Corpa' 'Getafe'\n",
      " 'Velilla de San Antonio' 'Sevilla la Nueva' 'San Martín de la Vega'\n",
      " 'Villalbilla' 'Collado Villalba' 'Alcobendas' 'El Molar (Madrid)'\n",
      " 'Moraleja de Enmedio' 'Algete' 'Campo Real' 'Torrejón de la Calzada'\n",
      " 'Colmenar Viejo' 'Valdemorillo' 'Fuente El Saz de Jarama' 'Tres Cantos'\n",
      " 'Arroyomolinos (Madrid)' 'Griñón' 'Paracuellos de Jarama' 'Guadarrama'\n",
      " 'Titulcia' 'Galapagar' 'Collado Mediano' 'Los Molinos'\n",
      " 'San Lorenzo de El Escorial' 'Loeches' 'San Martín de Valdeiglesias'\n",
      " 'Navas del Rey' 'Bustarviejo' 'Manzanares El Real' 'Carabaña'\n",
      " 'Casarrubuelos' 'Cercedilla' 'Fresnedillas de la Oliva' 'Valdemaqueda'\n",
      " 'Robledo de Chavela' 'Miraflores de la Sierra' 'Humanes de Madrid'\n",
      " 'Valdetorres de Jarama' 'San Agustín del Guadalix' 'Ciempozuelos'\n",
      " 'Camarma de Esteruelas' 'Torres de la Alameda' 'Talamanca de Jarama'\n",
      " 'El Atazar' 'Hoyo de Manzanares' 'El Boalo - Cerceda – Mataelpino'\n",
      " 'El Álamo' 'Valdilecha' 'Valdeolmos-Alalpardo' 'Guadalix de la Sierra'\n",
      " 'Belmonte de Tajo' 'El Vellón' 'Brunete' 'Redueña' 'Morata de Tajuña'\n",
      " 'Tielmes' 'Gargantilla del Lozoya' 'Meco' 'Venturada' 'Quijorna'\n",
      " 'Cenicientos' 'Torrejón de Velasco' 'Navacerrada'\n",
      " 'Santa María de la Alameda' 'Orusco de Tajuña' 'Daganzo de Arriba'\n",
      " 'Villamanta' 'Anchuelo' 'Valdaracete' 'Ajalvir' 'Los Santos de la Humosa'\n",
      " 'Villamanrique de Tajo' 'Colmenar de Oreja' 'Villa del Prado'\n",
      " 'Fuentidueña de Tajo' 'Colmenar del Arroyo' 'Valdelaguna'\n",
      " 'Cubas de la Sagra' 'Valdeavero' 'Aldea del Fresno' 'Ribatejada'\n",
      " 'Torrelaguna' 'Batres' 'Pezuela de las Torres' 'Colmenarejo'\n",
      " 'Serranillos del Valle' 'Cobeña' 'Soto del Real' 'El Berrueco'\n",
      " 'Villanueva de Perales' 'Fresno de Torote - Serracines' 'Pozuelo del Rey'\n",
      " 'Pelayos de la Presa' 'La Cabrera' 'Nuevo Baztán' 'Perales de Tajuña'\n",
      " 'Villaconejos' 'Villarejo de Salvanés' 'Cadalso de los Vidrios'\n",
      " 'Santorcaz' 'Madarcos' 'Garganta de los Montes' 'Puentes Viejas'\n",
      " 'Torremocha de Jarama' 'Valdemanco' 'Braojos'\n",
      " 'Lozoyuela-navas-sieteiglesias' 'Piñuécar-gandullas' 'Valdepiélagos'\n",
      " 'Valverde de Alcalá' 'Villar del Olmo' 'Villamantilla'\n",
      " 'Horcajo de la Sierra' 'Gascones' 'Zarzalejo' 'Villavieja del Lozoya'\n",
      " 'Brea de Tajo' 'Estremera' 'Chapinería' 'Navarredonda' 'Patones' 'Ambite'\n",
      " 'Navalafuente' 'Lozoya' 'Canencia' 'Cabanillas de la Sierra'\n",
      " 'Buitrago del Lozoya' 'Fresno de Torote' 'Robregordo' 'Pinilla del Valle'\n",
      " 'Rascafría' 'La Hiruela' 'Montejo de la Sierra']\n"
     ]
    }
   ],
   "source": [
    "# TODO\n",
    "# values = ds[\"level5\"].value_counts()\n",
    "# print (values)\n",
    "\n",
    "value_unique = ds[\"level5\"].unique()\n",
    "print (value_unique)\n",
    "\n"
   ]
  },
  {
   "attachments": {},
   "cell_type": "markdown",
   "id": "crazy-blame",
   "metadata": {},
   "source": [
    "#### Exercise 05. Does the dataset contain NAs? (★☆☆)\n",
    "\n",
    "Print a boolean value (`True` or `False`) followed by the rows/cols that contains NAs."
   ]
  },
  {
   "cell_type": "code",
   "execution_count": 66,
   "id": "transparent-poetry",
   "metadata": {},
   "outputs": [
    {
     "name": "stdout",
     "output_type": "stream",
     "text": [
      "True\n",
      "Columnas con NAs: Index(['realEstate_name', 'phone_realEstate', 'rooms', 'bathrooms', 'surface',\n",
      "       'description', 'level4', 'level6', 'level7', 'level8', 'zipCode',\n",
      "       'customZone'],\n",
      "      dtype='object')\n",
      "Filas con NAs:/n       Unnamed: 0  id_realEstates  isNew                    realEstate_name  \\\n",
      "0               1       153771986  False            ferrari 57 inmobiliaria   \n",
      "1               2       153867863  False  tecnocasa fuenlabrada ferrocarril   \n",
      "2               3       153430440  False                 look find boadilla   \n",
      "3               4       152776331  False  tecnocasa fuenlabrada ferrocarril   \n",
      "4               5       153180188  False            ferrari 57 inmobiliaria   \n",
      "...           ...             ...    ...                                ...   \n",
      "15330       15331       153901377  False                infocasa consulting   \n",
      "15331       15332       150394373  False                inmobiliaria pulpon   \n",
      "15332       15333       153901397  False             tecnocasa torrelodones   \n",
      "15333       15334       152607440  False                inmobiliaria pulpon   \n",
      "15334       15335       153901356  False                infocasa consulting   \n",
      "\n",
      "       phone_realEstate                                       url_inmueble  \\\n",
      "0           912177526.0  https://www.fotocasa.es/es/comprar/vivienda/ma...   \n",
      "1           916358736.0  https://www.fotocasa.es/es/comprar/vivienda/ma...   \n",
      "2           916350408.0  https://www.fotocasa.es/es/comprar/vivienda/ma...   \n",
      "3           916358736.0  https://www.fotocasa.es/es/comprar/vivienda/ma...   \n",
      "4           912177526.0  https://www.fotocasa.es/es/comprar/vivienda/ma...   \n",
      "...                 ...                                                ...   \n",
      "15330       911360461.0  https://www.fotocasa.es/es/comprar/vivienda/ma...   \n",
      "15331       912788039.0  https://www.fotocasa.es/es/comprar/vivienda/ma...   \n",
      "15332       912780348.0  https://www.fotocasa.es/es/comprar/vivienda/ma...   \n",
      "15333       912788039.0  https://www.fotocasa.es/es/comprar/vivienda/ma...   \n",
      "15334       911360461.0  https://www.fotocasa.es/es/comprar/vivienda/ma...   \n",
      "\n",
      "       rooms  bathrooms  surface   price  ... level4Id level5Id level6Id  \\\n",
      "0        3.0        2.0    103.0  195000  ...        0        0        0   \n",
      "1        3.0        1.0      NaN   89000  ...        0        0        0   \n",
      "2        2.0        2.0     99.0  390000  ...        0        0        0   \n",
      "3        3.0        1.0     86.0   89000  ...        0        0        0   \n",
      "4        2.0        2.0    106.0  172000  ...        0        0        0   \n",
      "...      ...        ...      ...     ...  ...      ...      ...      ...   \n",
      "15330    2.0        1.0     96.0  259470  ...        0        0        0   \n",
      "15331    3.0        1.0    150.0  165000  ...        0        0        0   \n",
      "15332    4.0        2.0    175.0  495000  ...        0        0        0   \n",
      "15333    3.0        2.0    101.0  195000  ...        0        0        0   \n",
      "15334    3.0        2.0    152.0  765000  ...        0        0        0   \n",
      "\n",
      "      level7Id level8Id accuracy          latitude          longitude zipCode  \\\n",
      "0            0        0        0  40,2948276786438  -3,44402412135624     NaN   \n",
      "1            0        0        1          40,28674           -3,79351     NaN   \n",
      "2            0        0        0  40,4115646786438  -3,90662252135624     NaN   \n",
      "3            0        0        0  40,2853785786438  -3,79508142135624     NaN   \n",
      "4            0        0        0  40,2998774864376  -3,45226301356237     NaN   \n",
      "...        ...      ...      ...               ...                ...     ...   \n",
      "15330        0        0        0          40,45416           -3,70286     NaN   \n",
      "15331        0        0        0          40,36652           -3,48951     NaN   \n",
      "15332        0        0        0          40,57444           -3,92124     NaN   \n",
      "15333        0        0        0          40,36967           -3,48105     NaN   \n",
      "15334        0        0        0          40,45773           -3,69068     NaN   \n",
      "\n",
      "      customZone  \n",
      "0            NaN  \n",
      "1            NaN  \n",
      "2            NaN  \n",
      "3            NaN  \n",
      "4            NaN  \n",
      "...          ...  \n",
      "15330        NaN  \n",
      "15331        NaN  \n",
      "15332        NaN  \n",
      "15333        NaN  \n",
      "15334        NaN  \n",
      "\n",
      "[15335 rows x 37 columns]\n"
     ]
    }
   ],
   "source": [
    "# TODO\n",
    "\n",
    "tiene_na = ds.isnull().values.any()\n",
    "print (tiene_na)\n",
    "\n",
    "if tiene_na == True:\n",
    "    columnas_con_na = ds.columns[ds.isnull().any()]\n",
    "    print(f\"Columnas con NAs: {columnas_con_na}\")\n",
    "\n",
    "    filas_con_na = ds[ds.isnull().any(axis=1)]\n",
    "    print(f\"Filas con NAs:/n{filas_con_na}\")\n"
   ]
  },
  {
   "attachments": {},
   "cell_type": "markdown",
   "id": "italic-hydrogen",
   "metadata": {},
   "source": [
    "#### Exercise 06. Delete the NAs of the dataset, if applicable (★★☆)\n",
    "\n",
    "Print a comparison between the dimensions of the original DataFrame versus the DataFrame after the deletions."
   ]
  },
  {
   "cell_type": "code",
   "execution_count": 67,
   "id": "administrative-roads",
   "metadata": {},
   "outputs": [
    {
     "name": "stdout",
     "output_type": "stream",
     "text": [
      "(15335, 37)\n",
      "(15335, 25)\n"
     ]
    }
   ],
   "source": [
    "# TODO\n",
    "\n",
    "con_na = ds.shape\n",
    "sin_col_na = ds.dropna(axis = 1)\n",
    "\n",
    "sin_na = sin_col_na.shape\n",
    "\n",
    "print (con_na)\n",
    "print (sin_na)\n",
    "\n"
   ]
  },
  {
   "attachments": {},
   "cell_type": "markdown",
   "id": "middle-china",
   "metadata": {},
   "source": [
    "#### Exercise 07. Which is the mean of prices in the population (level5 column) of \"Arroyomolinos (Madrid)\"? (★★☆)\n",
    "\n",
    "Print the obtained value."
   ]
  },
  {
   "cell_type": "code",
   "execution_count": 68,
   "id": "nuclear-belief",
   "metadata": {},
   "outputs": [
    {
     "name": "stdout",
     "output_type": "stream",
     "text": [
      "       Unnamed: 0  id_realEstates  isNew                  realEstate_name  \\\n",
      "453           454       153843083  False                  akris arguelles   \n",
      "607           608       153620088  False        100 home red inmobiliaria   \n",
      "613           614       153478908  False               mares inmobiliaria   \n",
      "707           708       153736961  False                         gm house   \n",
      "852           853       153274493  False                         gm house   \n",
      "...           ...             ...    ...                              ...   \n",
      "15019       15020       152767314  False                 haya real estate   \n",
      "15089       15090       152767395  False                 haya real estate   \n",
      "15091       15092       152767377  False                 haya real estate   \n",
      "15094       15095       152767335  False                 haya real estate   \n",
      "15192       15193       146831440  False  miranda servicios inmobiliarios   \n",
      "\n",
      "       phone_realEstate                                       url_inmueble  \\\n",
      "453         911792694.0  https://www.fotocasa.es/es/comprar/vivienda/ma...   \n",
      "607         912669623.0  https://www.fotocasa.es/es/comprar/vivienda/ma...   \n",
      "613         911794026.0  https://www.fotocasa.es/es/comprar/vivienda/ma...   \n",
      "707         916357589.0  https://www.fotocasa.es/es/comprar/vivienda/po...   \n",
      "852         916357589.0  https://www.fotocasa.es/es/comprar/vivienda/ma...   \n",
      "...                 ...                                                ...   \n",
      "15019       911227078.0  https://www.fotocasa.es/vivienda/getafe/calle-...   \n",
      "15089       911227078.0  https://www.fotocasa.es/es/comprar/vivienda/ar...   \n",
      "15091       911227078.0  https://www.fotocasa.es/es/comprar/vivienda/ar...   \n",
      "15094       911227078.0  https://www.fotocasa.es/es/comprar/vivienda/ar...   \n",
      "15192       912789124.0  https://www.fotocasa.es/es/comprar/vivienda/ma...   \n",
      "\n",
      "       rooms  bathrooms  surface   price  ... level4Id level5Id level6Id  \\\n",
      "453      2.0        2.0     85.0  165338  ...        0        0        0   \n",
      "607      4.0        3.0    225.0  251646  ...        0        0        0   \n",
      "613      4.0        4.0    257.0  396000  ...        0        0        0   \n",
      "707      3.0        2.0    110.0  225000  ...        0        0        0   \n",
      "852      4.0        2.0    280.0  373000  ...        0        0        0   \n",
      "...      ...        ...      ...     ...  ...      ...      ...      ...   \n",
      "15019    3.0        2.0    143.0  218000  ...        0        0        0   \n",
      "15089    3.0        2.0    140.0  230000  ...        0        0        0   \n",
      "15091    3.0        2.0    143.0  217000  ...        0        0        0   \n",
      "15094    3.0        2.0    142.0  227000  ...        0        0        0   \n",
      "15192    3.0        2.0    300.0  462000  ...        0        0        0   \n",
      "\n",
      "      level7Id level8Id accuracy          latitude          longitude zipCode  \\\n",
      "453          0        0        0          40,27657           -3,91864     NaN   \n",
      "607          0        0        0  40,2568635154027  -3,91214199444133     NaN   \n",
      "613          0        0        1        40,2839697         -3,9268743     NaN   \n",
      "707          0        0        0        40,2779047         -3,9136693     NaN   \n",
      "852          0        0        0        40,2827315         -3,9120264     NaN   \n",
      "...        ...      ...      ...               ...                ...     ...   \n",
      "15019        0        0        0       40,27849764        -3,91184112     NaN   \n",
      "15089        0        0        0       40,27849764        -3,91184112     NaN   \n",
      "15091        0        0        0       40,27849764        -3,91184112     NaN   \n",
      "15094        0        0        0       40,27849764        -3,91184112     NaN   \n",
      "15192        0        0        0         40,270392  -3,90373610000006     NaN   \n",
      "\n",
      "      customZone  \n",
      "453          NaN  \n",
      "607          NaN  \n",
      "613          NaN  \n",
      "707          NaN  \n",
      "852          NaN  \n",
      "...          ...  \n",
      "15019        NaN  \n",
      "15089        NaN  \n",
      "15091        NaN  \n",
      "15094        NaN  \n",
      "15192        NaN  \n",
      "\n",
      "[135 rows x 37 columns]\n",
      "298905.1777777778\n"
     ]
    }
   ],
   "source": [
    "# TODO\n",
    "\n",
    "am = ds[ds[\"level5\"] == \"Arroyomolinos (Madrid)\"]\n",
    "am_sinzero = am[am['price'] > 0 ]\n",
    "print(am_sinzero)\n",
    "print(am_sinzero[\"price\"].mean())"
   ]
  },
  {
   "attachments": {},
   "cell_type": "markdown",
   "id": "concerned-radical",
   "metadata": {},
   "source": [
    "#### Exercise 08. Plot the histogram of prices for the population (level5 column) of \"Arroyomolinos (Madrid)\" and explain what you observe (★★☆)\n",
    "\n",
    "Print the histogram of the prices and write in the Markdown cell a brief analysis about the plot."
   ]
  },
  {
   "cell_type": "code",
   "execution_count": 2,
   "id": "sudden-message",
   "metadata": {},
   "outputs": [
    {
     "ename": "NameError",
     "evalue": "name 'am' is not defined",
     "output_type": "error",
     "traceback": [
      "\u001b[0;31m---------------------------------------------------------------------------\u001b[0m",
      "\u001b[0;31mNameError\u001b[0m                                 Traceback (most recent call last)",
      "Cell \u001b[0;32mIn[2], line 6\u001b[0m\n\u001b[1;32m      3\u001b[0m \u001b[38;5;28;01mimport\u001b[39;00m \u001b[38;5;21;01mmatplotlib\u001b[39;00m\u001b[38;5;21;01m.\u001b[39;00m\u001b[38;5;21;01mpyplot\u001b[39;00m \u001b[38;5;28;01mas\u001b[39;00m \u001b[38;5;21;01mplt\u001b[39;00m\n\u001b[1;32m      4\u001b[0m \u001b[38;5;28;01mimport\u001b[39;00m \u001b[38;5;21;01mnumpy\u001b[39;00m \u001b[38;5;28;01mas\u001b[39;00m \u001b[38;5;21;01mnp\u001b[39;00m\n\u001b[0;32m----> 6\u001b[0m plt\u001b[38;5;241m.\u001b[39mhist (\u001b[43mam\u001b[49m[\u001b[38;5;124m\"\u001b[39m\u001b[38;5;124mprice\u001b[39m\u001b[38;5;124m\"\u001b[39m], bins\u001b[38;5;241m=\u001b[39m\u001b[38;5;241m50\u001b[39m, alpha \u001b[38;5;241m=\u001b[39m \u001b[38;5;241m0.5\u001b[39m, color \u001b[38;5;241m=\u001b[39m \u001b[38;5;124m\"\u001b[39m\u001b[38;5;124morange\u001b[39m\u001b[38;5;124m\"\u001b[39m)\n\u001b[1;32m      7\u001b[0m plt\u001b[38;5;241m.\u001b[39mshow()\n",
      "\u001b[0;31mNameError\u001b[0m: name 'am' is not defined"
     ]
    }
   ],
   "source": [
    "# TODO: Code\n",
    "\n",
    "import matplotlib.pyplot as plt\n",
    "import numpy as np\n",
    "\n",
    "plt.hist (am[\"price\"], bins=50, alpha = 0.5, color = \"orange\")\n",
    "plt.show()"
   ]
  },
  {
   "attachments": {},
   "cell_type": "markdown",
   "id": "impressed-combination",
   "metadata": {},
   "source": [
    "**TODO: Markdown**. Most of the houses are priced between 200,000 and 400,000. There are some outliers, and the maximum price is close to 600,000."
   ]
  },
  {
   "attachments": {},
   "cell_type": "markdown",
   "id": "actual-edinburgh",
   "metadata": {},
   "source": [
    "#### Exercise 09. Are the average prices of \"Valdemorillo\" and \"Galapagar\" the same? (★★☆)\n",
    "\n",
    "Print both average prices and then write a conclusion about them."
   ]
  },
  {
   "cell_type": "code",
   "execution_count": 70,
   "id": "numeric-commerce",
   "metadata": {},
   "outputs": [
    {
     "name": "stdout",
     "output_type": "stream",
     "text": [
      "363860.2931034483\n",
      "360063.20238095237\n",
      "False\n"
     ]
    }
   ],
   "source": [
    "# TODO\n",
    "\n",
    "ds_sinzero = ds[ds[\"price\"] > 0]\n",
    "pmean_valdemorillo = ds_sinzero[ds_sinzero[\"level5\"] == \"Valdemorillo\"][\"price\"].mean()\n",
    "pmean_galapagar = ds_sinzero[ds_sinzero[\"level5\"] == \"Galapagar\"][\"price\"].mean()\n",
    "\n",
    "print (pmean_valdemorillo)\n",
    "print (pmean_galapagar)\n",
    "\n",
    "print (pmean_valdemorillo == pmean_galapagar)"
   ]
  },
  {
   "attachments": {},
   "cell_type": "markdown",
   "id": "lonely-article",
   "metadata": {},
   "source": [
    "#### Exercise 10. Are the average prices per square meter (price/m2) of \"Valdemorillo\" and \"Galapagar\" the same? (★★☆)\n",
    "\n",
    "Print both average prices and then write a conclusion about it.\n",
    "\n",
    "Hint: Create a new column called `pps` (price per square meter) and then analyze the values."
   ]
  },
  {
   "cell_type": "code",
   "execution_count": 71,
   "id": "hourly-globe",
   "metadata": {},
   "outputs": [
    {
     "name": "stdout",
     "output_type": "stream",
     "text": [
      "Empty DataFrame\n",
      "Columns: [Unnamed: 0, id_realEstates, isNew, realEstate_name, phone_realEstate, url_inmueble, rooms, bathrooms, surface, price, date, description, address, country, level1, level2, level3, level4, level5, level6, level7, level8, upperLevel, countryId, level1Id, level2Id, level3Id, level4Id, level5Id, level6Id, level7Id, level8Id, accuracy, latitude, longitude, zipCode, customZone]\n",
      "Index: []\n",
      "\n",
      "[0 rows x 37 columns]\n",
      "El precio promedio por metro cuadrado en Valdemorillo es 1039.5447972876266\n",
      "El precio promedio por metro cuadrado en Galapagar es 1178.5257998852853\n",
      "False\n"
     ]
    }
   ],
   "source": [
    "# TODO\n",
    "\n",
    "aux = ds.loc[ds[\"surface\"] == 0]\n",
    "print (aux)\n",
    "\n",
    "smean_valdemorillo = ds_sinzero[ds_sinzero[\"level5\"] == \"Valdemorillo\"][\"surface\"].mean()\n",
    "smean_galapagar = ds_sinzero[ds_sinzero[\"level5\"] == \"Galapagar\"][\"surface\"].mean()\n",
    "\n",
    "pps_valdemorillo = pmean_valdemorillo / smean_valdemorillo\n",
    "pps_galapagar = pmean_galapagar / smean_galapagar\n",
    "\n",
    "print (f\"El precio promedio por metro cuadrado en Valdemorillo es {pps_valdemorillo}\")\n",
    "print (f\"El precio promedio por metro cuadrado en Galapagar es {pps_galapagar}\")\n",
    "\n",
    "print (pps_valdemorillo == pps_galapagar)"
   ]
  },
  {
   "attachments": {},
   "cell_type": "markdown",
   "id": "pleasant-invite",
   "metadata": {},
   "source": [
    "#### Exercise 11. Analyze the relation between the surface and the price of the houses (★★☆)\n",
    "\n",
    "Hint: You can make a `scatter plot`, then write a conclusion about it."
   ]
  },
  {
   "cell_type": "code",
   "execution_count": 72,
   "id": "b7848706",
   "metadata": {},
   "outputs": [
    {
     "name": "stdout",
     "output_type": "stream",
     "text": [
      "600\n",
      "count      15,275.00\n",
      "mean      479,178.41\n",
      "std       591,695.74\n",
      "min           600.00\n",
      "25%       169,900.00\n",
      "50%       282,048.00\n",
      "75%       540,000.00\n",
      "max     8,500,000.00\n",
      "Name: price, dtype: float64\n"
     ]
    }
   ],
   "source": [
    "pd.options.display.float_format = '{:,.2f}'.format\n",
    "\n",
    "print(ds_sinzero['price'].min())\n",
    "print(ds_sinzero['price'].describe())"
   ]
  },
  {
   "cell_type": "code",
   "execution_count": 73,
   "id": "common-drilling",
   "metadata": {},
   "outputs": [
    {
     "name": "stdout",
     "output_type": "stream",
     "text": [
      "600\n"
     ]
    },
    {
     "data": {
      "image/png": "[encoded data removed]",
      "text/plain": [
       "<Figure size 640x480 with 1 Axes>"
      ]
     },
     "metadata": {},
     "output_type": "display_data"
    }
   ],
   "source": [
    "# TODO: Code\n",
    "\n",
    "print(ds_sinzero[\"price\"].min())\n",
    "\n",
    "plt.scatter(ds_sinzero[\"price\"], ds_sinzero['surface'])\n",
    "plt.ylim(top = 3000)\n",
    "plt.ylim(bottom = 0)\n",
    "plt.xlabel(\"Precio\")\n",
    "plt.ylabel(\"Superficie\")\n",
    "plt.grid(visible=True, axis='both')\n",
    "\n",
    "plt.show()\n",
    "\n",
    "# \n"
   ]
  },
  {
   "attachments": {},
   "cell_type": "markdown",
   "id": "ahead-liquid",
   "metadata": {},
   "source": [
    "La tendencia indica que a mayor superficie en general hay un mayor precio de la vivienda"
   ]
  },
  {
   "attachments": {},
   "cell_type": "markdown",
   "id": "coordinate-sunrise",
   "metadata": {},
   "source": [
    "#### Exercise 12. How many real estate agencies does the dataset contain? (★★☆)\n",
    "\n",
    "Print the obtained value."
   ]
  },
  {
   "cell_type": "code",
   "execution_count": 74,
   "id": "valid-honolulu",
   "metadata": {},
   "outputs": [
    {
     "name": "stdout",
     "output_type": "stream",
     "text": [
      "1821\n"
     ]
    }
   ],
   "source": [
    "# TODO\n",
    "\n",
    "rsa = ds[\"realEstate_name\"].nunique()\n",
    "print(rsa)"
   ]
  },
  {
   "attachments": {},
   "cell_type": "markdown",
   "id": "binding-ebony",
   "metadata": {},
   "source": [
    "#### Exercise 13. Which is the population (level5 column) that contains the most houses? (★★☆)\n",
    "\n",
    "Print both the population and the number of houses."
   ]
  },
  {
   "cell_type": "code",
   "execution_count": 79,
   "id": "static-perry",
   "metadata": {},
   "outputs": [
    {
     "name": "stdout",
     "output_type": "stream",
     "text": [
      "population\n",
      " Madrid Capital         6643\n",
      "Alcalá de Henares        525\n",
      "Las Rozas de Madrid      383\n",
      "Móstoles                 325\n",
      "Getafe                   290\n",
      "                        ... \n",
      "Fresno de Torote           1\n",
      "Pinilla del Valle          1\n",
      "Rascafría                  1\n",
      "La Hiruela                 1\n",
      "Montejo de la Sierra       1\n",
      "Name: count, Length: 168, dtype: int64\n",
      "population\n",
      "Madrid Capital    6643\n",
      "dtype: int64\n"
     ]
    }
   ],
   "source": [
    "# TODO\n",
    "\n",
    "ds_population = ds.rename(columns={'level5': 'population'}, inplace=False)\n",
    "population_houses = ds_population[\"population\"].value_counts()\n",
    "print (population_houses)\n",
    "\n",
    "maxp_houses = ds_population.loc[ds_population['population'] == ' Madrid Capital']\n",
    "print(maxp_houses.groupby('population').size())\n"
   ]
  },
  {
   "attachments": {},
   "cell_type": "markdown",
   "id": "entire-classification",
   "metadata": {},
   "source": [
    "#### Exercise 14. Now let's work with the \"south belt\" of Madrid. Make a subset of the original DataFrame that contains the following populations (level5 column): \"Fuenlabrada\", \"Leganés\", \"Getafe\", \"Alcorcón\" (★★☆)\n",
    "\n",
    "Hint: Filter the original DataFrame using the column `level5` and the function `isin`."
   ]
  },
  {
   "cell_type": "code",
   "execution_count": 4,
   "id": "binary-input",
   "metadata": {},
   "outputs": [
    {
     "name": "stdout",
     "output_type": "stream",
     "text": [
      "level5\n",
      "Getafe         290\n",
      "Fuenlabrada    233\n",
      "Leganés        194\n",
      "Alcorcón       190\n",
      "Name: count, dtype: int64\n"
     ]
    }
   ],
   "source": [
    "# \n",
    "\n",
    "ds_aux = ds['level5'].isin(['Fuenlabrada','Leganés','Getafe','Alcorcón'])\n",
    "ds_southbelt = ds[ds_aux]\n",
    "\n",
    "print(ds_southbelt['level5'].value_counts())"
   ]
  },
  {
   "attachments": {},
   "cell_type": "markdown",
   "id": "severe-fisher",
   "metadata": {},
   "source": [
    "#### Exercise 15. Make a bar plot of the median of the prices and explain what you observe (you must use the subset obtained in Exercise 14) (★★★)\n",
    "\n",
    "Print the bar of the median of the prices and write in the Markdown cell a brief analysis about the plot."
   ]
  },
  {
   "cell_type": "code",
   "execution_count": null,
   "id": "lyric-bunch",
   "metadata": {},
   "outputs": [
    {
     "name": "stdout",
     "output_type": "stream",
     "text": [
      "level5\n",
      "Alcorcón       179500.0\n",
      "Fuenlabrada    155000.0\n",
      "Getafe         285305.0\n",
      "Leganés        169950.0\n",
      "Name: price, dtype: float64\n"
     ]
    },
    {
     "data": {
      "image/png": "[encoded data removed]",
      "text/plain": [
       "<Figure size 640x480 with 1 Axes>"
      ]
     },
     "metadata": {},
     "output_type": "display_data"
    }
   ],
   "source": [
    "\n",
    "p_median = ds_southbelt.groupby(\"level5\")['price'].median()\n",
    "print(p_median)\n",
    "\n",
    "plt.bar(p_median.index, p_median.values)\n",
    "plt.ylabel = \"median\"\n",
    "plt.xlabel='population'\n",
    "plt.show()"
   ]
  },
  {
   "attachments": {},
   "cell_type": "markdown",
   "id": "sublime-newspaper",
   "metadata": {},
   "source": [
    "**TODO: Markdown**. To write here, double-click on this cell, remove this content and place the text you want to write. Then, execute the cell."
   ]
  },
  {
   "attachments": {},
   "cell_type": "markdown",
   "id": "speaking-diamond",
   "metadata": {},
   "source": [
    "#### Exercise 16. Calculate the sample mean and variance of the variables: price, rooms, surface area and bathrooms (you must use the subset obtained in Exercise 14) (★★★)\n",
    "\n",
    "Print both values for each variable."
   ]
  },
  {
   "cell_type": "code",
   "execution_count": null,
   "id": "random-feeling",
   "metadata": {},
   "outputs": [
    {
     "name": "stdout",
     "output_type": "stream",
     "text": [
      "Variable: price\n",
      "Mean: 223094.48070562293\n",
      "Variance: 14921367508.04902\n",
      "\n",
      "Variable: rooms\n",
      "Mean: 3.0177383592017737\n",
      "Variance: 0.7188858892927542\n",
      "\n",
      "Variable: surface\n",
      "Mean: 111.75222363405337\n",
      "Variance: 4263.051760316337\n",
      "\n",
      "Variable: bathrooms\n",
      "Mean: 1.633221850613155\n",
      "Variance: 0.5717968625577321\n",
      "\n"
     ]
    }
   ],
   "source": [
    "# \n",
    "variables = ['price', 'rooms', 'surface', 'bathrooms']\n",
    "\n",
    "for col in variables:\n",
    "    print (f'Variable: {col}')\n",
    "    print (f'Mean: {ds_southbelt[col].mean()}')\n",
    "    print (f'Variance: {ds_southbelt[col].var()}')\n",
    "    print()\n",
    "\n"
   ]
  },
  {
   "attachments": {},
   "cell_type": "markdown",
   "id": "revolutionary-matrix",
   "metadata": {},
   "source": [
    "#### Exercise 17. What is the most expensive house in each population? You must use the subset obtained in Exercise 14 (★★☆)\n",
    "\n",
    "Print both the address and the price of the selected house of each population. You can print a DataFrame or a single line for each population."
   ]
  },
  {
   "cell_type": "code",
   "execution_count": null,
   "id": "fifteen-browse",
   "metadata": {},
   "outputs": [
    {
     "name": "stdout",
     "output_type": "stream",
     "text": [
      "        level5                                address    price\n",
      "0       Getafe                                 Getafe  1050000\n",
      "1     Alcorcón                               Alcorcón   950000\n",
      "2      Leganés           Avenida Reina Sofía, Leganés   650000\n",
      "3  Fuenlabrada  Calle de Paulo Freire, 5, Fuenlabrada   490000\n"
     ]
    }
   ],
   "source": [
    "# TODO\n",
    "\n",
    "max_prices = ds_southbelt.groupby(\"level5\")['price'].max()\n",
    "#print(max_prices)\n",
    "\n",
    "result = ds_southbelt.merge(max_prices, on=['level5', 'price'])\n",
    "\n",
    "print(result[['level5', 'address', 'price']])\n"
   ]
  },
  {
   "attachments": {},
   "cell_type": "markdown",
   "id": "activated-knight",
   "metadata": {},
   "source": [
    "#### Exercise 18. Normalize the variable of prices for each population and plot the 4 histograms in the same plot (you must use the subset obtained in Exercise 14) (★★★)\n",
    "\n",
    "For the normalization method, you can use the one you consider; there is not a single correct answer to this question. Print the plot and write in the Markdown cell a brief analysis about the plot.\n",
    "\n",
    "Hint: You can help yourself by reviewing the *multihist* demo of Matplotlib."
   ]
  },
  {
   "cell_type": "code",
   "execution_count": 12,
   "id": "civic-meditation",
   "metadata": {},
   "outputs": [
    {
     "data": {
      "image/png": "[encoded data removed]",
      "text/plain": [
       "<Figure size 640x480 with 1 Axes>"
      ]
     },
     "metadata": {},
     "output_type": "display_data"
    }
   ],
   "source": [
    "# # TODO\n",
    "\n",
    "ds_southbelt.loc[:, 'norm_price'] = (ds_southbelt['price'] - ds_southbelt['price'].min()) / (ds_southbelt['price'].max() - ds_southbelt['price'].min())\n",
    "# plt.hist(ds_southbelt['norm_price'], bins=50)\n",
    "\n",
    "ds_southbelt_getafe = ds_southbelt[ds_southbelt.level5 == 'Getafe']\n",
    "ds_southbelt_alcrocon = ds_southbelt[ds_southbelt.level5 == 'Alcorcón']\n",
    "ds_southbelt_leganes = ds_southbelt[ds_southbelt.level5 == 'Leganés']\n",
    "ds_southbelt_fuenlabrada = ds_southbelt[ds_southbelt.level5 == 'Fuenlabrada']\n",
    "\n",
    "# Histograma apilado\n",
    "plt.hist(ds_southbelt_getafe.norm_price, bins=25, stacked = True, label= ['Getafe'], alpha=0.8, color = 'blue')\n",
    "plt.hist(ds_southbelt_alcrocon.norm_price, bins=25, stacked = True, label= ['Alcorcón'], alpha=0.8, color = 'yellow')\n",
    "plt.hist(ds_southbelt_leganes.norm_price, bins=25, stacked = True, label= ['Leganés'], alpha=0.8, color = 'green')\n",
    "plt.hist(ds_southbelt_fuenlabrada.norm_price, bins=25, stacked = True, label= ['Fuenlabrada'], alpha=0.8, color = 'grey')\n",
    "plt.title('Histograma Apilado de norm_price por Categorías')\n",
    "plt.xlabel('Precio Normalizado')\n",
    "plt.ylabel('Frecuencia')\n",
    "plt.legend(title='Categorías')\n",
    "plt.show()"
   ]
  },
  {
   "attachments": {},
   "cell_type": "markdown",
   "id": "precise-heavy",
   "metadata": {},
   "source": [
    "**TODO: Markdown**. To write here, double-click on this cell, remove this content and place the text you want to write. Then, execute the cell."
   ]
  },
  {
   "attachments": {},
   "cell_type": "markdown",
   "id": "patent-jonathan",
   "metadata": {},
   "source": [
    "#### Exercise 19. What can you say about the price per square meter (price/m2) between the towns of \"Getafe\" and \"Alcorcón\"? You must use the subset obtained in Exercise 14 (★★☆)\n",
    "\n",
    "Hint: Create a new column called `pps` (price per square meter) and then analyze the values."
   ]
  },
  {
   "cell_type": "code",
   "execution_count": null,
   "id": "initial-liverpool",
   "metadata": {},
   "outputs": [
    {
     "data": {
      "image/png": "[encoded data removed]",
      "text/plain": [
       "<Figure size 800x600 with 2 Axes>"
      ]
     },
     "metadata": {},
     "output_type": "display_data"
    }
   ],
   "source": [
    "# \n",
    "\n",
    "ds_southbelt.loc[:, 'pps'] = ds_southbelt['price'] / ds_southbelt['surface'].replace(0, np.nan)\n",
    "categorias2 = [ds_southbelt[ds_southbelt['level5'] == cat]['pps'] for cat in ['Getafe', 'Alcorcón']]\n",
    "\n",
    "fig, ax = plt.subplots(1, 2, figsize=(8, 6))\n",
    "\n",
    "# Dibujar algo en cada gráfico\n",
    "ax[0].hist(ds_southbelt.loc[ds_southbelt['level5'] == 'Getafe', 'pps'], bins=25, color = 'orange', label = 'Getafe')\n",
    "ax[0].legend(title='Categorías')\n",
    "ax[0].set_ylim(0, 45)  # Establecer límites del eje X\n",
    "ax[0].set_xlim(0, 4000)  # Establecer límites del eje Y\n",
    "ax[1].hist(ds_southbelt.loc[ds_southbelt['level5'] == 'Alcorcón', 'pps'], bins=25, label = 'Alcorcón')\n",
    "ax[1].set_ylim(0, 45)  # Establecer límites del eje X\n",
    "ax[1].set_xlim(0, 4000)  # Establecer límites del eje Y\n",
    "ax[1].legend(title='Categorías')\n",
    "\n",
    "\n",
    "plt.tight_layout()  # Ajusta el espaciado entre subgráficos\n",
    "plt.show()\n"
   ]
  },
  {
   "cell_type": "markdown",
   "id": "92290471",
   "metadata": {},
   "source": [
    "El precio por metro cuadrado en Getafe es mayor que en la localidad de Alcorcón en general."
   ]
  },
  {
   "attachments": {},
   "cell_type": "markdown",
   "id": "enhanced-moscow",
   "metadata": {},
   "source": [
    "#### Exercise 20. Make the same plot for 4 different populations (level5 column) and rearrange them on the same graph. You must use the subset obtained in Exercise 14 (★★☆)\n",
    " \n",
    "Hint: Make a scatter plot of each population using subplots."
   ]
  },
  {
   "cell_type": "code",
   "execution_count": 61,
   "id": "accepting-airfare",
   "metadata": {},
   "outputs": [
    {
     "data": {
      "image/png": "[encoded data removed]",
      "text/plain": [
       "<Figure size 640x480 with 1 Axes>"
      ]
     },
     "metadata": {},
     "output_type": "display_data"
    }
   ],
   "source": [
    "# \n",
    "\n",
    "# Dibujar algo en cada gráfico\n",
    "plt.scatter(ds_southbelt_getafe['pps'], ds_southbelt_getafe.norm_price, label = 'Getafe', marker = 'o')\n",
    "plt.scatter(ds_southbelt_alcrocon['pps'], ds_southbelt_alcrocon.norm_price, label = 'Alcorcón', marker = 'D')\n",
    "plt.scatter(ds_southbelt_leganes['pps'], ds_southbelt_leganes.norm_price, label = 'Leganés', marker = 's')\n",
    "plt.scatter(ds_southbelt_fuenlabrada['pps'], ds_southbelt_fuenlabrada.norm_price, label = 'Fuenlabrada', marker = 'p')\n",
    "plt.legend(title='Population')\n",
    "plt.show()"
   ]
  },
  {
   "attachments": {},
   "cell_type": "markdown",
   "id": "blocked-effects",
   "metadata": {},
   "source": [
    "#### Exercise 21. Make a plot of the coordinates (latitude and longitude columns) of the south belt of Madrid by color of each population (you must use the subset obtained in Exercise 14) (★★★★)\n",
    "\n",
    "Execute the following cell, and then start coding in the next one. You must implement a simple code that transforms the coordinates columns in a Python dictionary (add more information if needed) and then add it to the map"
   ]
  },
  {
   "cell_type": "code",
   "execution_count": null,
   "id": "headed-privacy",
   "metadata": {},
   "outputs": [
    {
     "ename": "AttributeError",
     "evalue": "Stamen",
     "output_type": "error",
     "traceback": [
      "\u001b[0;31m---------------------------------------------------------------------------\u001b[0m",
      "\u001b[0;31mKeyError\u001b[0m                                  Traceback (most recent call last)",
      "File \u001b[0;32m~/.local/lib/python3.11/site-packages/xyzservices/lib.py:45\u001b[0m, in \u001b[0;36mBunch.__getattr__\u001b[0;34m(self, key)\u001b[0m\n\u001b[1;32m     44\u001b[0m \u001b[38;5;28;01mtry\u001b[39;00m:\n\u001b[0;32m---> 45\u001b[0m     \u001b[38;5;28;01mreturn\u001b[39;00m \u001b[38;5;28;43mself\u001b[39;49m\u001b[38;5;241;43m.\u001b[39;49m\u001b[38;5;21;43m__getitem__\u001b[39;49m\u001b[43m(\u001b[49m\u001b[43mkey\u001b[49m\u001b[43m)\u001b[49m\n\u001b[1;32m     46\u001b[0m \u001b[38;5;28;01mexcept\u001b[39;00m \u001b[38;5;167;01mKeyError\u001b[39;00m \u001b[38;5;28;01mas\u001b[39;00m err:\n",
      "\u001b[0;31mKeyError\u001b[0m: 'Stamen'",
      "\nThe above exception was the direct cause of the following exception:\n",
      "\u001b[0;31mAttributeError\u001b[0m                            Traceback (most recent call last)",
      "Cell \u001b[0;32mIn[62], line 6\u001b[0m\n\u001b[1;32m      1\u001b[0m \u001b[38;5;28;01mfrom\u001b[39;00m \u001b[38;5;21;01mipyleaflet\u001b[39;00m \u001b[38;5;28;01mimport\u001b[39;00m Map, basemaps\n\u001b[1;32m      3\u001b[0m \u001b[38;5;66;03m# Map centered on (60 degrees latitude and -2.2 degrees longitude)\u001b[39;00m\n\u001b[1;32m      4\u001b[0m \u001b[38;5;66;03m# Latitude, longitude\u001b[39;00m\n\u001b[1;32m      5\u001b[0m \u001b[38;5;28mmap\u001b[39m \u001b[38;5;241m=\u001b[39m Map(center \u001b[38;5;241m=\u001b[39m (\u001b[38;5;241m60\u001b[39m, \u001b[38;5;241m-\u001b[39m\u001b[38;5;241m2.2\u001b[39m), zoom \u001b[38;5;241m=\u001b[39m \u001b[38;5;241m2\u001b[39m, min_zoom \u001b[38;5;241m=\u001b[39m \u001b[38;5;241m1\u001b[39m, max_zoom \u001b[38;5;241m=\u001b[39m \u001b[38;5;241m20\u001b[39m, \n\u001b[0;32m----> 6\u001b[0m     basemap\u001b[38;5;241m=\u001b[39m\u001b[43mbasemaps\u001b[49m\u001b[38;5;241;43m.\u001b[39;49m\u001b[43mStamen\u001b[49m\u001b[38;5;241m.\u001b[39mTerrain)\n\u001b[1;32m      7\u001b[0m \u001b[38;5;28mmap\u001b[39m\n",
      "File \u001b[0;32m~/.local/lib/python3.11/site-packages/xyzservices/lib.py:47\u001b[0m, in \u001b[0;36mBunch.__getattr__\u001b[0;34m(self, key)\u001b[0m\n\u001b[1;32m     45\u001b[0m     \u001b[38;5;28;01mreturn\u001b[39;00m \u001b[38;5;28mself\u001b[39m\u001b[38;5;241m.\u001b[39m\u001b[38;5;21m__getitem__\u001b[39m(key)\n\u001b[1;32m     46\u001b[0m \u001b[38;5;28;01mexcept\u001b[39;00m \u001b[38;5;167;01mKeyError\u001b[39;00m \u001b[38;5;28;01mas\u001b[39;00m err:\n\u001b[0;32m---> 47\u001b[0m     \u001b[38;5;28;01mraise\u001b[39;00m \u001b[38;5;167;01mAttributeError\u001b[39;00m(key) \u001b[38;5;28;01mfrom\u001b[39;00m \u001b[38;5;21;01merr\u001b[39;00m\n",
      "\u001b[0;31mAttributeError\u001b[0m: Stamen"
     ]
    }
   ],
   "source": [
    "from ipyleaflet import Map, basemaps\n",
    "\n",
    "# Map centered on (60 degrees latitude and -2.2 degrees longitude)\n",
    "# Latitude, longitude\n",
    "map = Map(center = (60, -2.2), zoom = 2, min_zoom = 1, max_zoom = 20, \n",
    "    basemap=basemaps.Stamen.Terrain)\n",
    "map"
   ]
  },
  {
   "cell_type": "code",
   "execution_count": null,
   "id": "present-mistress",
   "metadata": {},
   "outputs": [],
   "source": [
    "\n",
    "\n"
   ]
  }
 ],
 "metadata": {
  "kernelspec": {
   "display_name": "Python 3",
   "language": "python",
   "name": "python3"
  },
  "language_info": {
   "codemirror_mode": {
    "name": "ipython",
    "version": 3
   },
   "file_extension": ".py",
   "mimetype": "text/x-python",
   "name": "python",
   "nbconvert_exporter": "python",
   "pygments_lexer": "ipython3",
   "version": "3.11.4"
  }
 },
 "nbformat": 4,
 "nbformat_minor": 5
}
